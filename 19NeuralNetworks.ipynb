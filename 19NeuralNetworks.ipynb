{
 "cells": [
  {
   "cell_type": "code",
   "execution_count": 1,
   "id": "4c52553d",
   "metadata": {},
   "outputs": [],
   "source": [
    "# Import our dependencies\n",
    "import pandas as pd\n",
    "import matplotlib as plt\n",
    "from sklearn.datasets import make_blobs\n",
    "import sklearn as skl\n",
    "import tensorflow as tf"
   ]
  },
  {
   "cell_type": "code",
   "execution_count": 2,
   "id": "61e93aa8",
   "metadata": {},
   "outputs": [
    {
     "data": {
      "text/plain": [
       "<AxesSubplot:xlabel='Feature 1', ylabel='Feature 2'>"
      ]
     },
     "execution_count": 2,
     "metadata": {},
     "output_type": "execute_result"
    },
    {
     "data": {
      "image/png": "[encoded data removed]",
      "text/plain": [
       "<Figure size 432x288 with 2 Axes>"
      ]
     },
     "metadata": {
      "needs_background": "light"
     },
     "output_type": "display_data"
    }
   ],
   "source": [
    "# Generate dummy dataset\n",
    "X, y = make_blobs(n_samples=1000, centers=2, n_features=2, random_state=78)\n",
    "\n",
    "# Creating a DataFrame with the dummy data\n",
    "df = pd.DataFrame(X, columns=[\"Feature 1\", \"Feature 2\"])\n",
    "df[\"Target\"] = y\n",
    "\n",
    "# Plotting the dummy data\n",
    "df.plot.scatter(x=\"Feature 1\", y=\"Feature 2\", c=\"Target\", colormap=\"winter\")"
   ]
  },
  {
   "cell_type": "code",
   "execution_count": 3,
   "id": "7bd8c5ee",
   "metadata": {},
   "outputs": [],
   "source": [
    "# Use sklearn to split dataset\n",
    "from sklearn.model_selection import train_test_split\n",
    "X_train, X_test, y_train, y_test = train_test_split(X, y, random_state=78)"
   ]
  },
  {
   "cell_type": "code",
   "execution_count": 4,
   "id": "1adfad31",
   "metadata": {},
   "outputs": [],
   "source": [
    "# Normalize/Standardize\n",
    "# Create scaler instance\n",
    "X_scaler = skl.preprocessing.StandardScaler()\n",
    "\n",
    "# Fit the scaler\n",
    "X_scaler.fit(X_train)\n",
    "\n",
    "# Scale the data\n",
    "X_train_scaled = X_scaler.transform(X_train)\n",
    "X_test_scaled = X_scaler.transform(X_test)"
   ]
  },
  {
   "cell_type": "code",
   "execution_count": 5,
   "id": "aa4d77d7",
   "metadata": {},
   "outputs": [],
   "source": [
    "# Create the Keras Sequential model\n",
    "nn_model = tf.keras.models.Sequential()"
   ]
  },
  {
   "cell_type": "code",
   "execution_count": 6,
   "id": "6af7a7ec",
   "metadata": {},
   "outputs": [
    {
     "name": "stderr",
     "output_type": "stream",
     "text": [
      "2022-06-27 22:25:38.264370: I tensorflow/core/platform/cpu_feature_guard.cc:145] This TensorFlow binary is optimized with Intel(R) MKL-DNN to use the following CPU instructions in performance critical operations:  SSE4.1 SSE4.2\n",
      "To enable them in non-MKL-DNN operations, rebuild TensorFlow with the appropriate compiler flags.\n",
      "2022-06-27 22:25:38.266703: I tensorflow/core/common_runtime/process_util.cc:115] Creating new thread pool with default inter op setting: 8. Tune using inter_op_parallelism_threads for best performance.\n"
     ]
    }
   ],
   "source": [
    "# Add our first Dense layer, including the input layer\n",
    "nn_model.add(tf.keras.layers.Dense(units=1, activation=\"relu\", input_dim=2))"
   ]
  },
  {
   "cell_type": "code",
   "execution_count": 7,
   "id": "5461de31",
   "metadata": {},
   "outputs": [],
   "source": [
    "# Add the output layer that uses a probability activation function\n",
    "nn_model.add(tf.keras.layers.Dense(units=1, activation=\"sigmoid\"))"
   ]
  },
  {
   "cell_type": "code",
   "execution_count": 8,
   "id": "5614e446",
   "metadata": {},
   "outputs": [
    {
     "name": "stdout",
     "output_type": "stream",
     "text": [
      "Model: \"sequential\"\n",
      "_________________________________________________________________\n",
      "Layer (type)                 Output Shape              Param #   \n",
      "=================================================================\n",
      "dense (Dense)                (None, 1)                 3         \n",
      "_________________________________________________________________\n",
      "dense_1 (Dense)              (None, 1)                 2         \n",
      "=================================================================\n",
      "Total params: 5\n",
      "Trainable params: 5\n",
      "Non-trainable params: 0\n",
      "_________________________________________________________________\n"
     ]
    }
   ],
   "source": [
    "# Check the structure of the Sequential model\n",
    "nn_model.summary()"
   ]
  },
  {
   "cell_type": "code",
   "execution_count": 9,
   "id": "d2c5e95f",
   "metadata": {},
   "outputs": [],
   "source": [
    "# Compile the Sequential model together and customize metrics\n",
    "nn_model.compile(loss=\"binary_crossentropy\", optimizer=\"adam\", metrics=[\"accuracy\"])"
   ]
  },
  {
   "cell_type": "code",
   "execution_count": 13,
   "id": "68ae02ea",
   "metadata": {},
   "outputs": [
    {
     "name": "stdout",
     "output_type": "stream",
     "text": [
      "Train on 750 samples\n",
      "Epoch 1/100\n",
      "750/750 [==============================] - 0s 76us/sample - loss: 0.0052 - accuracy: 1.0000\n",
      "Epoch 2/100\n",
      "750/750 [==============================] - 0s 34us/sample - loss: 0.0052 - accuracy: 1.0000\n",
      "Epoch 3/100\n",
      "750/750 [==============================] - 0s 34us/sample - loss: 0.0051 - accuracy: 1.0000\n",
      "Epoch 4/100\n",
      "750/750 [==============================] - 0s 33us/sample - loss: 0.0051 - accuracy: 1.0000\n",
      "Epoch 5/100\n",
      "750/750 [==============================] - 0s 34us/sample - loss: 0.0050 - accuracy: 1.0000\n",
      "Epoch 6/100\n",
      "750/750 [==============================] - 0s 34us/sample - loss: 0.0050 - accuracy: 1.0000\n",
      "Epoch 7/100\n",
      "750/750 [==============================] - 0s 33us/sample - loss: 0.0049 - accuracy: 1.0000\n",
      "Epoch 8/100\n",
      "750/750 [==============================] - 0s 32us/sample - loss: 0.0049 - accuracy: 1.0000\n",
      "Epoch 9/100\n",
      "750/750 [==============================] - 0s 32us/sample - loss: 0.0048 - accuracy: 1.0000\n",
      "Epoch 10/100\n",
      "750/750 [==============================] - 0s 32us/sample - loss: 0.0048 - accuracy: 1.0000\n",
      "Epoch 11/100\n",
      "750/750 [==============================] - 0s 33us/sample - loss: 0.0047 - accuracy: 1.0000\n",
      "Epoch 12/100\n",
      "750/750 [==============================] - 0s 32us/sample - loss: 0.0047 - accuracy: 1.0000\n",
      "Epoch 13/100\n",
      "750/750 [==============================] - 0s 33us/sample - loss: 0.0046 - accuracy: 1.0000\n",
      "Epoch 14/100\n",
      "750/750 [==============================] - 0s 34us/sample - loss: 0.0046 - accuracy: 1.0000\n",
      "Epoch 15/100\n",
      "750/750 [==============================] - 0s 33us/sample - loss: 0.0045 - accuracy: 1.0000\n",
      "Epoch 16/100\n",
      "750/750 [==============================] - 0s 34us/sample - loss: 0.0045 - accuracy: 1.0000\n",
      "Epoch 17/100\n",
      "750/750 [==============================] - 0s 35us/sample - loss: 0.0044 - accuracy: 1.0000\n",
      "Epoch 18/100\n",
      "750/750 [==============================] - 0s 36us/sample - loss: 0.0044 - accuracy: 1.0000\n",
      "Epoch 19/100\n",
      "750/750 [==============================] - 0s 39us/sample - loss: 0.0043 - accuracy: 1.0000\n",
      "Epoch 20/100\n",
      "750/750 [==============================] - 0s 40us/sample - loss: 0.0043 - accuracy: 1.0000\n",
      "Epoch 21/100\n",
      "750/750 [==============================] - 0s 39us/sample - loss: 0.0042 - accuracy: 1.0000\n",
      "Epoch 22/100\n",
      "750/750 [==============================] - 0s 34us/sample - loss: 0.0042 - accuracy: 1.0000\n",
      "Epoch 23/100\n",
      "750/750 [==============================] - 0s 38us/sample - loss: 0.0042 - accuracy: 1.0000\n",
      "Epoch 24/100\n",
      "750/750 [==============================] - 0s 37us/sample - loss: 0.0041 - accuracy: 1.0000\n",
      "Epoch 25/100\n",
      "750/750 [==============================] - 0s 36us/sample - loss: 0.0041 - accuracy: 1.0000\n",
      "Epoch 26/100\n",
      "750/750 [==============================] - 0s 39us/sample - loss: 0.0040 - accuracy: 1.0000\n",
      "Epoch 27/100\n",
      "750/750 [==============================] - 0s 38us/sample - loss: 0.0040 - accuracy: 1.0000\n",
      "Epoch 28/100\n",
      "750/750 [==============================] - 0s 37us/sample - loss: 0.0040 - accuracy: 1.0000\n",
      "Epoch 29/100\n",
      "750/750 [==============================] - 0s 35us/sample - loss: 0.0039 - accuracy: 1.0000\n",
      "Epoch 30/100\n",
      "750/750 [==============================] - 0s 36us/sample - loss: 0.0039 - accuracy: 1.0000\n",
      "Epoch 31/100\n",
      "750/750 [==============================] - 0s 35us/sample - loss: 0.0038 - accuracy: 1.0000\n",
      "Epoch 32/100\n",
      "750/750 [==============================] - 0s 36us/sample - loss: 0.0038 - accuracy: 1.0000\n",
      "Epoch 33/100\n",
      "750/750 [==============================] - 0s 34us/sample - loss: 0.0038 - accuracy: 1.0000\n",
      "Epoch 34/100\n",
      "750/750 [==============================] - 0s 34us/sample - loss: 0.0037 - accuracy: 1.0000\n",
      "Epoch 35/100\n",
      "750/750 [==============================] - 0s 33us/sample - loss: 0.0037 - accuracy: 1.0000\n",
      "Epoch 36/100\n",
      "750/750 [==============================] - 0s 35us/sample - loss: 0.0036 - accuracy: 1.0000\n",
      "Epoch 37/100\n",
      "750/750 [==============================] - 0s 34us/sample - loss: 0.0036 - accuracy: 1.0000\n",
      "Epoch 38/100\n",
      "750/750 [==============================] - 0s 34us/sample - loss: 0.0036 - accuracy: 1.0000\n",
      "Epoch 39/100\n",
      "750/750 [==============================] - 0s 32us/sample - loss: 0.0035 - accuracy: 1.0000\n",
      "Epoch 40/100\n",
      "750/750 [==============================] - 0s 35us/sample - loss: 0.0035 - accuracy: 1.0000\n",
      "Epoch 41/100\n",
      "750/750 [==============================] - 0s 35us/sample - loss: 0.0035 - accuracy: 1.0000\n",
      "Epoch 42/100\n",
      "750/750 [==============================] - 0s 34us/sample - loss: 0.0034 - accuracy: 1.0000\n",
      "Epoch 43/100\n",
      "750/750 [==============================] - 0s 35us/sample - loss: 0.0034 - accuracy: 1.0000\n",
      "Epoch 44/100\n",
      "750/750 [==============================] - 0s 34us/sample - loss: 0.0034 - accuracy: 1.0000\n",
      "Epoch 45/100\n",
      "750/750 [==============================] - 0s 37us/sample - loss: 0.0033 - accuracy: 1.0000\n",
      "Epoch 46/100\n",
      "750/750 [==============================] - 0s 37us/sample - loss: 0.0033 - accuracy: 1.0000\n",
      "Epoch 47/100\n",
      "750/750 [==============================] - 0s 37us/sample - loss: 0.0033 - accuracy: 1.0000\n",
      "Epoch 48/100\n",
      "750/750 [==============================] - 0s 38us/sample - loss: 0.0032 - accuracy: 1.0000\n",
      "Epoch 49/100\n",
      "750/750 [==============================] - 0s 37us/sample - loss: 0.0032 - accuracy: 1.0000\n",
      "Epoch 50/100\n",
      "750/750 [==============================] - 0s 36us/sample - loss: 0.0032 - accuracy: 1.0000\n",
      "Epoch 51/100\n",
      "750/750 [==============================] - 0s 36us/sample - loss: 0.0031 - accuracy: 1.0000\n",
      "Epoch 52/100\n",
      "750/750 [==============================] - 0s 37us/sample - loss: 0.0031 - accuracy: 1.0000\n",
      "Epoch 53/100\n",
      "750/750 [==============================] - 0s 36us/sample - loss: 0.0031 - accuracy: 1.0000\n",
      "Epoch 54/100\n",
      "750/750 [==============================] - 0s 40us/sample - loss: 0.0030 - accuracy: 1.0000\n",
      "Epoch 55/100\n",
      "750/750 [==============================] - 0s 39us/sample - loss: 0.0030 - accuracy: 1.0000\n",
      "Epoch 56/100\n",
      "750/750 [==============================] - 0s 35us/sample - loss: 0.0030 - accuracy: 1.0000\n",
      "Epoch 57/100\n",
      "750/750 [==============================] - 0s 36us/sample - loss: 0.0029 - accuracy: 1.0000\n",
      "Epoch 58/100\n",
      "750/750 [==============================] - 0s 36us/sample - loss: 0.0029 - accuracy: 1.0000\n",
      "Epoch 59/100\n",
      "750/750 [==============================] - 0s 37us/sample - loss: 0.0029 - accuracy: 1.0000\n",
      "Epoch 60/100\n",
      "750/750 [==============================] - 0s 36us/sample - loss: 0.0029 - accuracy: 1.0000\n",
      "Epoch 61/100\n",
      "750/750 [==============================] - 0s 35us/sample - loss: 0.0028 - accuracy: 1.0000\n",
      "Epoch 62/100\n",
      "750/750 [==============================] - 0s 37us/sample - loss: 0.0028 - accuracy: 1.0000\n",
      "Epoch 63/100\n",
      "750/750 [==============================] - 0s 35us/sample - loss: 0.0028 - accuracy: 1.0000\n",
      "Epoch 64/100\n",
      "750/750 [==============================] - 0s 37us/sample - loss: 0.0027 - accuracy: 1.0000\n",
      "Epoch 65/100\n",
      "750/750 [==============================] - 0s 35us/sample - loss: 0.0027 - accuracy: 1.0000\n",
      "Epoch 66/100\n",
      "750/750 [==============================] - 0s 37us/sample - loss: 0.0027 - accuracy: 1.0000\n",
      "Epoch 67/100\n",
      "750/750 [==============================] - 0s 37us/sample - loss: 0.0027 - accuracy: 1.0000\n",
      "Epoch 68/100\n",
      "750/750 [==============================] - 0s 35us/sample - loss: 0.0026 - accuracy: 1.0000\n",
      "Epoch 69/100\n",
      "750/750 [==============================] - 0s 37us/sample - loss: 0.0026 - accuracy: 1.0000\n",
      "Epoch 70/100\n",
      "750/750 [==============================] - 0s 34us/sample - loss: 0.0026 - accuracy: 1.0000\n",
      "Epoch 71/100\n",
      "750/750 [==============================] - 0s 37us/sample - loss: 0.0025 - accuracy: 1.0000\n",
      "Epoch 72/100\n",
      "750/750 [==============================] - 0s 36us/sample - loss: 0.0025 - accuracy: 1.0000\n",
      "Epoch 73/100\n",
      "750/750 [==============================] - 0s 34us/sample - loss: 0.0025 - accuracy: 1.0000\n",
      "Epoch 74/100\n",
      "750/750 [==============================] - 0s 35us/sample - loss: 0.0025 - accuracy: 1.0000\n",
      "Epoch 75/100\n",
      "750/750 [==============================] - 0s 35us/sample - loss: 0.0024 - accuracy: 1.0000\n",
      "Epoch 76/100\n",
      "750/750 [==============================] - 0s 34us/sample - loss: 0.0024 - accuracy: 1.0000\n",
      "Epoch 77/100\n",
      "750/750 [==============================] - 0s 35us/sample - loss: 0.0024 - accuracy: 1.0000\n",
      "Epoch 78/100\n"
     ]
    },
    {
     "name": "stdout",
     "output_type": "stream",
     "text": [
      "750/750 [==============================] - 0s 35us/sample - loss: 0.0024 - accuracy: 1.0000\n",
      "Epoch 79/100\n",
      "750/750 [==============================] - 0s 34us/sample - loss: 0.0024 - accuracy: 1.0000\n",
      "Epoch 80/100\n",
      "750/750 [==============================] - 0s 32us/sample - loss: 0.0023 - accuracy: 1.0000\n",
      "Epoch 81/100\n",
      "750/750 [==============================] - 0s 32us/sample - loss: 0.0023 - accuracy: 1.0000\n",
      "Epoch 82/100\n",
      "750/750 [==============================] - 0s 31us/sample - loss: 0.0023 - accuracy: 1.0000\n",
      "Epoch 83/100\n",
      "750/750 [==============================] - 0s 32us/sample - loss: 0.0023 - accuracy: 1.0000\n",
      "Epoch 84/100\n",
      "750/750 [==============================] - 0s 32us/sample - loss: 0.0022 - accuracy: 1.0000\n",
      "Epoch 85/100\n",
      "750/750 [==============================] - 0s 33us/sample - loss: 0.0022 - accuracy: 1.0000\n",
      "Epoch 86/100\n",
      "750/750 [==============================] - 0s 32us/sample - loss: 0.0022 - accuracy: 1.0000\n",
      "Epoch 87/100\n",
      "750/750 [==============================] - 0s 32us/sample - loss: 0.0022 - accuracy: 1.0000\n",
      "Epoch 88/100\n",
      "750/750 [==============================] - 0s 32us/sample - loss: 0.0021 - accuracy: 1.0000\n",
      "Epoch 89/100\n",
      "750/750 [==============================] - 0s 32us/sample - loss: 0.0021 - accuracy: 1.0000\n",
      "Epoch 90/100\n",
      "750/750 [==============================] - 0s 32us/sample - loss: 0.0021 - accuracy: 1.0000\n",
      "Epoch 91/100\n",
      "750/750 [==============================] - 0s 32us/sample - loss: 0.0021 - accuracy: 1.0000\n",
      "Epoch 92/100\n",
      "750/750 [==============================] - 0s 32us/sample - loss: 0.0021 - accuracy: 1.0000\n",
      "Epoch 93/100\n",
      "750/750 [==============================] - 0s 32us/sample - loss: 0.0020 - accuracy: 1.0000\n",
      "Epoch 94/100\n",
      "750/750 [==============================] - 0s 34us/sample - loss: 0.0020 - accuracy: 1.0000\n",
      "Epoch 95/100\n",
      "750/750 [==============================] - 0s 33us/sample - loss: 0.0020 - accuracy: 1.0000\n",
      "Epoch 96/100\n",
      "750/750 [==============================] - 0s 34us/sample - loss: 0.0020 - accuracy: 1.0000\n",
      "Epoch 97/100\n",
      "750/750 [==============================] - 0s 33us/sample - loss: 0.0020 - accuracy: 1.0000\n",
      "Epoch 98/100\n",
      "750/750 [==============================] - 0s 33us/sample - loss: 0.0019 - accuracy: 1.0000\n",
      "Epoch 99/100\n",
      "750/750 [==============================] - 0s 33us/sample - loss: 0.0019 - accuracy: 1.0000\n",
      "Epoch 100/100\n",
      "750/750 [==============================] - 0s 34us/sample - loss: 0.0019 - accuracy: 1.0000\n"
     ]
    }
   ],
   "source": [
    "# Fit the model to the training data\n",
    "fit_model = nn_model.fit(X_train_scaled, y_train, epochs=100)"
   ]
  },
  {
   "cell_type": "code",
   "execution_count": 14,
   "id": "b93f41b7",
   "metadata": {},
   "outputs": [
    {
     "data": {
      "text/plain": [
       "<AxesSubplot:>"
      ]
     },
     "execution_count": 14,
     "metadata": {},
     "output_type": "execute_result"
    },
    {
     "data": {
      "image/png": "[encoded data removed]",
      "text/plain": [
       "<Figure size 432x288 with 1 Axes>"
      ]
     },
     "metadata": {
      "needs_background": "light"
     },
     "output_type": "display_data"
    }
   ],
   "source": [
    "# Create a DataFrame containing training history\n",
    "history_df = pd.DataFrame(fit_model.history, index=range(1,len(fit_model.history[\"loss\"])+1))\n",
    "\n",
    "# Plot the loss\n",
    "history_df.plot(y=\"loss\")"
   ]
  },
  {
   "cell_type": "code",
   "execution_count": 15,
   "id": "93d9defd",
   "metadata": {},
   "outputs": [
    {
     "data": {
      "text/plain": [
       "<AxesSubplot:>"
      ]
     },
     "execution_count": 15,
     "metadata": {},
     "output_type": "execute_result"
    },
    {
     "data": {
      "image/png": "[encoded data removed]",
      "text/plain": [
       "<Figure size 432x288 with 1 Axes>"
      ]
     },
     "metadata": {
      "needs_background": "light"
     },
     "output_type": "display_data"
    }
   ],
   "source": [
    "# Plot the accuracy\n",
    "history_df.plot(y=\"accuracy\")"
   ]
  },
  {
   "cell_type": "code",
   "execution_count": 18,
   "id": "d71b857a",
   "metadata": {
    "scrolled": true
   },
   "outputs": [
    {
     "name": "stdout",
     "output_type": "stream",
     "text": [
      "250/1 - 0s - loss: 0.0020 - accuracy: 1.0000\n",
      "Loss: 0.0017688877023756505, Accuracy: 1.0\n"
     ]
    }
   ],
   "source": [
    "# Evaluate the model using the test data\n",
    "model_loss, model_accuracy = nn_model.evaluate(X_test_scaled,y_test,verbose=2)\n",
    "print(f\"Loss: {model_loss}, Accuracy: {model_accuracy}\")"
   ]
  },
  {
   "cell_type": "code",
   "execution_count": 19,
   "id": "ee8574d6",
   "metadata": {},
   "outputs": [
    {
     "data": {
      "text/plain": [
       "array([[0],\n",
       "       [1],\n",
       "       [0],\n",
       "       [1],\n",
       "       [0],\n",
       "       [0],\n",
       "       [1],\n",
       "       [1],\n",
       "       [1],\n",
       "       [0]], dtype=int32)"
      ]
     },
     "execution_count": 19,
     "metadata": {},
     "output_type": "execute_result"
    }
   ],
   "source": [
    "# Predict the classification of a new set of blob data\n",
    "new_X, new_Y = make_blobs(n_samples=10, centers=2, n_features=2, random_state=78)\n",
    "new_X_scaled = X_scaler.transform(new_X)\n",
    "(nn_model.predict(new_X_scaled) > 0.5).astype(\"int32\")"
   ]
  },
  {
   "cell_type": "code",
   "execution_count": 20,
   "id": "c78ac0a3",
   "metadata": {
    "scrolled": true
   },
   "outputs": [
    {
     "data": {
      "text/plain": [
       "array([[0],\n",
       "       [1],\n",
       "       [0],\n",
       "       [1],\n",
       "       [0],\n",
       "       [0],\n",
       "       [1],\n",
       "       [1],\n",
       "       [1],\n",
       "       [0]], dtype=int32)"
      ]
     },
     "execution_count": 20,
     "metadata": {},
     "output_type": "execute_result"
    }
   ],
   "source": [
    "# Predict the classification of a new set of blob data\n",
    "new_X, new_Y = make_blobs(n_samples=10, centers=2, n_features=2, random_state=78)\n",
    "new_X_scaled = X_scaler.transform(new_X)\n",
    "nn_model.predict_classes(new_X_scaled)"
   ]
  },
  {
   "cell_type": "code",
   "execution_count": 21,
   "id": "0fddca72",
   "metadata": {},
   "outputs": [
    {
     "data": {
      "text/plain": [
       "<AxesSubplot:xlabel='Feature 1', ylabel='Feature 2'>"
      ]
     },
     "execution_count": 21,
     "metadata": {},
     "output_type": "execute_result"
    },
    {
     "data": {
      "image/png": "[encoded data removed]",
      "text/plain": [
       "<Figure size 432x288 with 2 Axes>"
      ]
     },
     "metadata": {
      "needs_background": "light"
     },
     "output_type": "display_data"
    }
   ],
   "source": [
    "from sklearn.datasets import make_moons\n",
    "\n",
    "# Creating dummy nonlinear data\n",
    "X_moons, y_moons = make_moons(n_samples=1000, noise=0.08, random_state=78)\n",
    "\n",
    "# Transforming y_moons to a vertical vector\n",
    "y_moons = y_moons.reshape(-1, 1)\n",
    "\n",
    "# Creating a DataFrame to plot the nonlinear dummy data\n",
    "df_moons = pd.DataFrame(X_moons, columns=[\"Feature 1\", \"Feature 2\"])\n",
    "df_moons[\"Target\"] = y_moons\n",
    "\n",
    "# Plot the nonlinear dummy data\n",
    "df_moons.plot.scatter(x=\"Feature 1\",y=\"Feature 2\", c=\"Target\",colormap=\"winter\")"
   ]
  },
  {
   "cell_type": "code",
   "execution_count": 22,
   "id": "cabf8a13",
   "metadata": {},
   "outputs": [],
   "source": [
    "# Create training(fit) and testing sets\n",
    "X_moon_train, X_moon_test, y_moon_train, y_moon_test = train_test_split(\n",
    "    X_moons, y_moons, random_state=78\n",
    ")\n",
    "\n",
    "# Create the scaler instance\n",
    "X_moon_scaler = skl.preprocessing.StandardScaler()\n",
    "\n",
    "# Fit the scaler\n",
    "X_moon_scaler.fit(X_moon_train)\n",
    "\n",
    "# Scale the data\n",
    "X_moon_train_scaled = X_moon_scaler.transform(X_moon_train)\n",
    "X_moon_test_scaled = X_moon_scaler.transform(X_moon_test)"
   ]
  },
  {
   "cell_type": "code",
   "execution_count": 23,
   "id": "c9348acc",
   "metadata": {},
   "outputs": [
    {
     "name": "stdout",
     "output_type": "stream",
     "text": [
      "Train on 750 samples\n",
      "Epoch 1/100\n",
      "750/750 [==============================] - 0s 78us/sample - loss: 1.5216 - accuracy: 0.5920\n",
      "Epoch 2/100\n",
      "750/750 [==============================] - 0s 35us/sample - loss: 1.3031 - accuracy: 0.6213\n",
      "Epoch 3/100\n",
      "750/750 [==============================] - 0s 34us/sample - loss: 1.1541 - accuracy: 0.6440\n",
      "Epoch 4/100\n",
      "750/750 [==============================] - 0s 33us/sample - loss: 1.0480 - accuracy: 0.6640\n",
      "Epoch 5/100\n",
      "750/750 [==============================] - 0s 33us/sample - loss: 0.9659 - accuracy: 0.6747\n",
      "Epoch 6/100\n",
      "750/750 [==============================] - 0s 33us/sample - loss: 0.8978 - accuracy: 0.6840\n",
      "Epoch 7/100\n",
      "750/750 [==============================] - 0s 33us/sample - loss: 0.8411 - accuracy: 0.6907\n",
      "Epoch 8/100\n",
      "750/750 [==============================] - 0s 33us/sample - loss: 0.7914 - accuracy: 0.6947\n",
      "Epoch 9/100\n",
      "750/750 [==============================] - 0s 33us/sample - loss: 0.7481 - accuracy: 0.7093\n",
      "Epoch 10/100\n",
      "750/750 [==============================] - 0s 33us/sample - loss: 0.7101 - accuracy: 0.7173\n",
      "Epoch 11/100\n",
      "750/750 [==============================] - 0s 33us/sample - loss: 0.6759 - accuracy: 0.7227\n",
      "Epoch 12/100\n",
      "750/750 [==============================] - 0s 33us/sample - loss: 0.6453 - accuracy: 0.7333\n",
      "Epoch 13/100\n",
      "750/750 [==============================] - 0s 35us/sample - loss: 0.6173 - accuracy: 0.7453\n",
      "Epoch 14/100\n",
      "750/750 [==============================] - 0s 33us/sample - loss: 0.5916 - accuracy: 0.7507\n",
      "Epoch 15/100\n",
      "750/750 [==============================] - 0s 33us/sample - loss: 0.5687 - accuracy: 0.7560\n",
      "Epoch 16/100\n",
      "750/750 [==============================] - 0s 34us/sample - loss: 0.5469 - accuracy: 0.7600\n",
      "Epoch 17/100\n",
      "750/750 [==============================] - 0s 34us/sample - loss: 0.5270 - accuracy: 0.7640\n",
      "Epoch 18/100\n",
      "750/750 [==============================] - 0s 33us/sample - loss: 0.5089 - accuracy: 0.7720\n",
      "Epoch 19/100\n",
      "750/750 [==============================] - 0s 34us/sample - loss: 0.4916 - accuracy: 0.7773\n",
      "Epoch 20/100\n",
      "750/750 [==============================] - 0s 34us/sample - loss: 0.4755 - accuracy: 0.7813\n",
      "Epoch 21/100\n",
      "750/750 [==============================] - 0s 34us/sample - loss: 0.4606 - accuracy: 0.7867\n",
      "Epoch 22/100\n",
      "750/750 [==============================] - 0s 35us/sample - loss: 0.4467 - accuracy: 0.7907\n",
      "Epoch 23/100\n",
      "750/750 [==============================] - 0s 34us/sample - loss: 0.4339 - accuracy: 0.7907\n",
      "Epoch 24/100\n",
      "750/750 [==============================] - 0s 34us/sample - loss: 0.4217 - accuracy: 0.7947\n",
      "Epoch 25/100\n",
      "750/750 [==============================] - 0s 34us/sample - loss: 0.4098 - accuracy: 0.8027\n",
      "Epoch 26/100\n",
      "750/750 [==============================] - 0s 35us/sample - loss: 0.3989 - accuracy: 0.8093\n",
      "Epoch 27/100\n",
      "750/750 [==============================] - 0s 35us/sample - loss: 0.3884 - accuracy: 0.8107\n",
      "Epoch 28/100\n",
      "750/750 [==============================] - 0s 37us/sample - loss: 0.3784 - accuracy: 0.8133\n",
      "Epoch 29/100\n",
      "750/750 [==============================] - 0s 35us/sample - loss: 0.3692 - accuracy: 0.8160\n",
      "Epoch 30/100\n",
      "750/750 [==============================] - 0s 36us/sample - loss: 0.3604 - accuracy: 0.8200\n",
      "Epoch 31/100\n",
      "750/750 [==============================] - 0s 35us/sample - loss: 0.3519 - accuracy: 0.8200\n",
      "Epoch 32/100\n",
      "750/750 [==============================] - 0s 38us/sample - loss: 0.3442 - accuracy: 0.8240\n",
      "Epoch 33/100\n",
      "750/750 [==============================] - 0s 38us/sample - loss: 0.3368 - accuracy: 0.8267\n",
      "Epoch 34/100\n",
      "750/750 [==============================] - 0s 35us/sample - loss: 0.3295 - accuracy: 0.8307\n",
      "Epoch 35/100\n",
      "750/750 [==============================] - 0s 35us/sample - loss: 0.3228 - accuracy: 0.8333\n",
      "Epoch 36/100\n",
      "750/750 [==============================] - 0s 35us/sample - loss: 0.3164 - accuracy: 0.8373\n",
      "Epoch 37/100\n",
      "750/750 [==============================] - 0s 40us/sample - loss: 0.3105 - accuracy: 0.8400\n",
      "Epoch 38/100\n",
      "750/750 [==============================] - 0s 36us/sample - loss: 0.3047 - accuracy: 0.8400\n",
      "Epoch 39/100\n",
      "750/750 [==============================] - 0s 38us/sample - loss: 0.2994 - accuracy: 0.8427\n",
      "Epoch 40/100\n",
      "750/750 [==============================] - 0s 36us/sample - loss: 0.2944 - accuracy: 0.8440\n",
      "Epoch 41/100\n",
      "750/750 [==============================] - 0s 35us/sample - loss: 0.2899 - accuracy: 0.8480\n",
      "Epoch 42/100\n",
      "750/750 [==============================] - 0s 37us/sample - loss: 0.2855 - accuracy: 0.8507\n",
      "Epoch 43/100\n",
      "750/750 [==============================] - 0s 36us/sample - loss: 0.2814 - accuracy: 0.8507\n",
      "Epoch 44/100\n",
      "750/750 [==============================] - 0s 38us/sample - loss: 0.2777 - accuracy: 0.8507\n",
      "Epoch 45/100\n",
      "750/750 [==============================] - 0s 40us/sample - loss: 0.2739 - accuracy: 0.8520\n",
      "Epoch 46/100\n",
      "750/750 [==============================] - 0s 41us/sample - loss: 0.2707 - accuracy: 0.8547\n",
      "Epoch 47/100\n",
      "750/750 [==============================] - 0s 36us/sample - loss: 0.2677 - accuracy: 0.8627\n",
      "Epoch 48/100\n",
      "750/750 [==============================] - 0s 37us/sample - loss: 0.2651 - accuracy: 0.8640\n",
      "Epoch 49/100\n",
      "750/750 [==============================] - 0s 38us/sample - loss: 0.2625 - accuracy: 0.8667\n",
      "Epoch 50/100\n",
      "750/750 [==============================] - 0s 39us/sample - loss: 0.2602 - accuracy: 0.8693\n",
      "Epoch 51/100\n",
      "750/750 [==============================] - 0s 37us/sample - loss: 0.2581 - accuracy: 0.8747\n",
      "Epoch 52/100\n",
      "750/750 [==============================] - 0s 35us/sample - loss: 0.2563 - accuracy: 0.8787\n",
      "Epoch 53/100\n",
      "750/750 [==============================] - 0s 37us/sample - loss: 0.2544 - accuracy: 0.8813\n",
      "Epoch 54/100\n",
      "750/750 [==============================] - 0s 39us/sample - loss: 0.2530 - accuracy: 0.8813\n",
      "Epoch 55/100\n",
      "750/750 [==============================] - 0s 35us/sample - loss: 0.2516 - accuracy: 0.8813\n",
      "Epoch 56/100\n",
      "750/750 [==============================] - 0s 34us/sample - loss: 0.2504 - accuracy: 0.8840\n",
      "Epoch 57/100\n",
      "750/750 [==============================] - 0s 33us/sample - loss: 0.2493 - accuracy: 0.8840\n",
      "Epoch 58/100\n",
      "750/750 [==============================] - 0s 34us/sample - loss: 0.2485 - accuracy: 0.8840\n",
      "Epoch 59/100\n",
      "750/750 [==============================] - 0s 35us/sample - loss: 0.2475 - accuracy: 0.8840\n",
      "Epoch 60/100\n",
      "750/750 [==============================] - 0s 37us/sample - loss: 0.2468 - accuracy: 0.8853\n",
      "Epoch 61/100\n",
      "750/750 [==============================] - 0s 34us/sample - loss: 0.2462 - accuracy: 0.8880\n",
      "Epoch 62/100\n",
      "750/750 [==============================] - 0s 33us/sample - loss: 0.2456 - accuracy: 0.8880\n",
      "Epoch 63/100\n",
      "750/750 [==============================] - 0s 33us/sample - loss: 0.2450 - accuracy: 0.8893\n",
      "Epoch 64/100\n",
      "750/750 [==============================] - 0s 32us/sample - loss: 0.2446 - accuracy: 0.8893\n",
      "Epoch 65/100\n",
      "750/750 [==============================] - 0s 35us/sample - loss: 0.2442 - accuracy: 0.8893\n",
      "Epoch 66/100\n",
      "750/750 [==============================] - 0s 35us/sample - loss: 0.2439 - accuracy: 0.8880\n",
      "Epoch 67/100\n",
      "750/750 [==============================] - 0s 34us/sample - loss: 0.2437 - accuracy: 0.8893\n",
      "Epoch 68/100\n",
      "750/750 [==============================] - 0s 36us/sample - loss: 0.2433 - accuracy: 0.8893\n",
      "Epoch 69/100\n",
      "750/750 [==============================] - 0s 37us/sample - loss: 0.2431 - accuracy: 0.8907\n",
      "Epoch 70/100\n",
      "750/750 [==============================] - 0s 40us/sample - loss: 0.2430 - accuracy: 0.8907\n",
      "Epoch 71/100\n",
      "750/750 [==============================] - 0s 33us/sample - loss: 0.2428 - accuracy: 0.8907\n",
      "Epoch 72/100\n",
      "750/750 [==============================] - 0s 34us/sample - loss: 0.2426 - accuracy: 0.8920\n",
      "Epoch 73/100\n",
      "750/750 [==============================] - 0s 34us/sample - loss: 0.2426 - accuracy: 0.8920\n",
      "Epoch 74/100\n",
      "750/750 [==============================] - 0s 33us/sample - loss: 0.2425 - accuracy: 0.8920\n",
      "Epoch 75/100\n",
      "750/750 [==============================] - 0s 35us/sample - loss: 0.2423 - accuracy: 0.8920\n",
      "Epoch 76/100\n",
      "750/750 [==============================] - 0s 34us/sample - loss: 0.2423 - accuracy: 0.8920\n",
      "Epoch 77/100\n",
      "750/750 [==============================] - 0s 34us/sample - loss: 0.2422 - accuracy: 0.8920\n",
      "Epoch 78/100\n"
     ]
    },
    {
     "name": "stdout",
     "output_type": "stream",
     "text": [
      "750/750 [==============================] - 0s 34us/sample - loss: 0.2421 - accuracy: 0.8920\n",
      "Epoch 79/100\n",
      "750/750 [==============================] - 0s 35us/sample - loss: 0.2421 - accuracy: 0.8920\n",
      "Epoch 80/100\n",
      "750/750 [==============================] - 0s 32us/sample - loss: 0.2420 - accuracy: 0.8920\n",
      "Epoch 81/100\n",
      "750/750 [==============================] - 0s 31us/sample - loss: 0.2421 - accuracy: 0.8947\n",
      "Epoch 82/100\n",
      "750/750 [==============================] - 0s 33us/sample - loss: 0.2420 - accuracy: 0.8920\n",
      "Epoch 83/100\n",
      "750/750 [==============================] - 0s 36us/sample - loss: 0.2419 - accuracy: 0.8920\n",
      "Epoch 84/100\n",
      "750/750 [==============================] - 0s 34us/sample - loss: 0.2419 - accuracy: 0.8920\n",
      "Epoch 85/100\n",
      "750/750 [==============================] - 0s 34us/sample - loss: 0.2419 - accuracy: 0.8933\n",
      "Epoch 86/100\n",
      "750/750 [==============================] - 0s 35us/sample - loss: 0.2418 - accuracy: 0.8920\n",
      "Epoch 87/100\n",
      "750/750 [==============================] - 0s 33us/sample - loss: 0.2418 - accuracy: 0.8920\n",
      "Epoch 88/100\n",
      "750/750 [==============================] - 0s 37us/sample - loss: 0.2418 - accuracy: 0.8920\n",
      "Epoch 89/100\n",
      "750/750 [==============================] - 0s 34us/sample - loss: 0.2418 - accuracy: 0.8933\n",
      "Epoch 90/100\n",
      "750/750 [==============================] - 0s 34us/sample - loss: 0.2417 - accuracy: 0.8907\n",
      "Epoch 91/100\n",
      "750/750 [==============================] - 0s 35us/sample - loss: 0.2417 - accuracy: 0.8907\n",
      "Epoch 92/100\n",
      "750/750 [==============================] - 0s 34us/sample - loss: 0.2417 - accuracy: 0.8907\n",
      "Epoch 93/100\n",
      "750/750 [==============================] - 0s 36us/sample - loss: 0.2418 - accuracy: 0.8920\n",
      "Epoch 94/100\n",
      "750/750 [==============================] - 0s 34us/sample - loss: 0.2417 - accuracy: 0.8920\n",
      "Epoch 95/100\n",
      "750/750 [==============================] - 0s 35us/sample - loss: 0.2417 - accuracy: 0.8920\n",
      "Epoch 96/100\n",
      "750/750 [==============================] - 0s 34us/sample - loss: 0.2417 - accuracy: 0.8920\n",
      "Epoch 97/100\n",
      "750/750 [==============================] - 0s 35us/sample - loss: 0.2417 - accuracy: 0.8920\n",
      "Epoch 98/100\n",
      "750/750 [==============================] - 0s 35us/sample - loss: 0.2417 - accuracy: 0.8920\n",
      "Epoch 99/100\n",
      "750/750 [==============================] - 0s 32us/sample - loss: 0.2416 - accuracy: 0.8893\n",
      "Epoch 100/100\n",
      "750/750 [==============================] - 0s 35us/sample - loss: 0.2417 - accuracy: 0.8920\n"
     ]
    }
   ],
   "source": [
    "# Training the model with the nonlinear data\n",
    "model_moon = nn_model.fit(X_moon_train_scaled, y_moon_train, epochs=100, shuffle=True)"
   ]
  },
  {
   "cell_type": "code",
   "execution_count": 24,
   "id": "043e8585",
   "metadata": {},
   "outputs": [
    {
     "data": {
      "text/plain": [
       "<AxesSubplot:>"
      ]
     },
     "execution_count": 24,
     "metadata": {},
     "output_type": "execute_result"
    },
    {
     "data": {
      "image/png": "[encoded data removed]",
      "text/plain": [
       "<Figure size 432x288 with 1 Axes>"
      ]
     },
     "metadata": {
      "needs_background": "light"
     },
     "output_type": "display_data"
    }
   ],
   "source": [
    "# Create a DataFrame containing training history\n",
    "history_df = pd.DataFrame(model_moon.history, index=range(1,len(model_moon.history[\"loss\"])+1))\n",
    "\n",
    "# Plot the loss\n",
    "history_df.plot(y=\"loss\")"
   ]
  },
  {
   "cell_type": "code",
   "execution_count": 25,
   "id": "13103dde",
   "metadata": {},
   "outputs": [
    {
     "data": {
      "text/plain": [
       "<AxesSubplot:>"
      ]
     },
     "execution_count": 25,
     "metadata": {},
     "output_type": "execute_result"
    },
    {
     "data": {
      "image/png": "[encoded data removed]",
      "text/plain": [
       "<Figure size 432x288 with 1 Axes>"
      ]
     },
     "metadata": {
      "needs_background": "light"
     },
     "output_type": "display_data"
    }
   ],
   "source": [
    "# Plot the accuracy\n",
    "history_df.plot(y=\"accuracy\")"
   ]
  },
  {
   "cell_type": "code",
   "execution_count": 26,
   "id": "8aa7e889",
   "metadata": {},
   "outputs": [],
   "source": [
    "# Generate our new Sequential model\n",
    "new_model = tf.keras.models.Sequential()"
   ]
  },
  {
   "cell_type": "code",
   "execution_count": 27,
   "id": "faf5d394",
   "metadata": {},
   "outputs": [],
   "source": [
    "# Add the input and hidden layer\n",
    "number_inputs = 2\n",
    "number_hidden_nodes = 6\n",
    "\n",
    "new_model.add(tf.keras.layers.Dense(units=number_hidden_nodes, activation=\"relu\", input_dim=number_inputs))\n",
    "\n",
    "# Add the output layer that uses a probability activation function\n",
    "new_model.add(tf.keras.layers.Dense(units=1, activation=\"sigmoid\"))"
   ]
  },
  {
   "cell_type": "code",
   "execution_count": 28,
   "id": "3de8afc8",
   "metadata": {},
   "outputs": [
    {
     "name": "stdout",
     "output_type": "stream",
     "text": [
      "Train on 750 samples\n",
      "Epoch 1/100\n",
      "750/750 [==============================] - 0s 640us/sample - loss: 0.7103 - accuracy: 0.5560\n",
      "Epoch 2/100\n",
      "750/750 [==============================] - 0s 37us/sample - loss: 0.6790 - accuracy: 0.5880\n",
      "Epoch 3/100\n",
      "750/750 [==============================] - 0s 38us/sample - loss: 0.6484 - accuracy: 0.6293\n",
      "Epoch 4/100\n",
      "750/750 [==============================] - 0s 35us/sample - loss: 0.6187 - accuracy: 0.6840\n",
      "Epoch 5/100\n",
      "750/750 [==============================] - 0s 35us/sample - loss: 0.5891 - accuracy: 0.7173\n",
      "Epoch 6/100\n",
      "750/750 [==============================] - 0s 35us/sample - loss: 0.5607 - accuracy: 0.7493\n",
      "Epoch 7/100\n",
      "750/750 [==============================] - 0s 36us/sample - loss: 0.5324 - accuracy: 0.7987\n",
      "Epoch 8/100\n",
      "750/750 [==============================] - 0s 36us/sample - loss: 0.5053 - accuracy: 0.8600\n",
      "Epoch 9/100\n",
      "750/750 [==============================] - 0s 36us/sample - loss: 0.4788 - accuracy: 0.8720\n",
      "Epoch 10/100\n",
      "750/750 [==============================] - 0s 35us/sample - loss: 0.4537 - accuracy: 0.8720\n",
      "Epoch 11/100\n",
      "750/750 [==============================] - 0s 36us/sample - loss: 0.4306 - accuracy: 0.8773\n",
      "Epoch 12/100\n",
      "750/750 [==============================] - 0s 36us/sample - loss: 0.4096 - accuracy: 0.8760\n",
      "Epoch 13/100\n",
      "750/750 [==============================] - 0s 37us/sample - loss: 0.3901 - accuracy: 0.8787\n",
      "Epoch 14/100\n",
      "750/750 [==============================] - 0s 36us/sample - loss: 0.3728 - accuracy: 0.8827\n",
      "Epoch 15/100\n",
      "750/750 [==============================] - 0s 37us/sample - loss: 0.3580 - accuracy: 0.8827\n",
      "Epoch 16/100\n",
      "750/750 [==============================] - 0s 36us/sample - loss: 0.3449 - accuracy: 0.8827\n",
      "Epoch 17/100\n",
      "750/750 [==============================] - 0s 37us/sample - loss: 0.3334 - accuracy: 0.8827\n",
      "Epoch 18/100\n",
      "750/750 [==============================] - 0s 36us/sample - loss: 0.3233 - accuracy: 0.8840\n",
      "Epoch 19/100\n",
      "750/750 [==============================] - 0s 36us/sample - loss: 0.3144 - accuracy: 0.8840\n",
      "Epoch 20/100\n",
      "750/750 [==============================] - 0s 37us/sample - loss: 0.3066 - accuracy: 0.8827\n",
      "Epoch 21/100\n",
      "750/750 [==============================] - 0s 37us/sample - loss: 0.2999 - accuracy: 0.8840\n",
      "Epoch 22/100\n",
      "750/750 [==============================] - 0s 37us/sample - loss: 0.2939 - accuracy: 0.8853\n",
      "Epoch 23/100\n",
      "750/750 [==============================] - 0s 38us/sample - loss: 0.2887 - accuracy: 0.8840\n",
      "Epoch 24/100\n",
      "750/750 [==============================] - 0s 38us/sample - loss: 0.2842 - accuracy: 0.8867\n",
      "Epoch 25/100\n",
      "750/750 [==============================] - 0s 37us/sample - loss: 0.2801 - accuracy: 0.8893\n",
      "Epoch 26/100\n",
      "750/750 [==============================] - 0s 38us/sample - loss: 0.2767 - accuracy: 0.8893\n",
      "Epoch 27/100\n",
      "750/750 [==============================] - 0s 39us/sample - loss: 0.2734 - accuracy: 0.8907\n",
      "Epoch 28/100\n",
      "750/750 [==============================] - 0s 37us/sample - loss: 0.2707 - accuracy: 0.8907\n",
      "Epoch 29/100\n",
      "750/750 [==============================] - 0s 37us/sample - loss: 0.2681 - accuracy: 0.8907\n",
      "Epoch 30/100\n",
      "750/750 [==============================] - 0s 38us/sample - loss: 0.2660 - accuracy: 0.8893\n",
      "Epoch 31/100\n",
      "750/750 [==============================] - 0s 38us/sample - loss: 0.2639 - accuracy: 0.8893\n",
      "Epoch 32/100\n",
      "750/750 [==============================] - 0s 39us/sample - loss: 0.2622 - accuracy: 0.8907\n",
      "Epoch 33/100\n",
      "750/750 [==============================] - 0s 40us/sample - loss: 0.2603 - accuracy: 0.8893\n",
      "Epoch 34/100\n",
      "750/750 [==============================] - 0s 39us/sample - loss: 0.2589 - accuracy: 0.8920\n",
      "Epoch 35/100\n",
      "750/750 [==============================] - 0s 38us/sample - loss: 0.2574 - accuracy: 0.8933\n",
      "Epoch 36/100\n",
      "750/750 [==============================] - 0s 38us/sample - loss: 0.2561 - accuracy: 0.8933\n",
      "Epoch 37/100\n",
      "750/750 [==============================] - 0s 39us/sample - loss: 0.2550 - accuracy: 0.8947\n",
      "Epoch 38/100\n",
      "750/750 [==============================] - 0s 40us/sample - loss: 0.2537 - accuracy: 0.8960\n",
      "Epoch 39/100\n",
      "750/750 [==============================] - 0s 45us/sample - loss: 0.2529 - accuracy: 0.8960\n",
      "Epoch 40/100\n",
      "750/750 [==============================] - 0s 41us/sample - loss: 0.2519 - accuracy: 0.8960\n",
      "Epoch 41/100\n",
      "750/750 [==============================] - 0s 39us/sample - loss: 0.2511 - accuracy: 0.8973\n",
      "Epoch 42/100\n",
      "750/750 [==============================] - 0s 39us/sample - loss: 0.2502 - accuracy: 0.8973\n",
      "Epoch 43/100\n",
      "750/750 [==============================] - 0s 38us/sample - loss: 0.2496 - accuracy: 0.8960\n",
      "Epoch 44/100\n",
      "750/750 [==============================] - 0s 37us/sample - loss: 0.2488 - accuracy: 0.8960\n",
      "Epoch 45/100\n",
      "750/750 [==============================] - 0s 38us/sample - loss: 0.2481 - accuracy: 0.8960\n",
      "Epoch 46/100\n",
      "750/750 [==============================] - 0s 40us/sample - loss: 0.2474 - accuracy: 0.8960\n",
      "Epoch 47/100\n",
      "750/750 [==============================] - 0s 40us/sample - loss: 0.2468 - accuracy: 0.8960\n",
      "Epoch 48/100\n",
      "750/750 [==============================] - 0s 37us/sample - loss: 0.2460 - accuracy: 0.8960\n",
      "Epoch 49/100\n",
      "750/750 [==============================] - 0s 36us/sample - loss: 0.2455 - accuracy: 0.8973\n",
      "Epoch 50/100\n",
      "750/750 [==============================] - 0s 38us/sample - loss: 0.2449 - accuracy: 0.8973\n",
      "Epoch 51/100\n",
      "750/750 [==============================] - 0s 37us/sample - loss: 0.2442 - accuracy: 0.8987\n",
      "Epoch 52/100\n",
      "750/750 [==============================] - 0s 38us/sample - loss: 0.2434 - accuracy: 0.8987\n",
      "Epoch 53/100\n",
      "750/750 [==============================] - 0s 37us/sample - loss: 0.2429 - accuracy: 0.9000\n",
      "Epoch 54/100\n",
      "750/750 [==============================] - 0s 35us/sample - loss: 0.2423 - accuracy: 0.9027\n",
      "Epoch 55/100\n",
      "750/750 [==============================] - 0s 36us/sample - loss: 0.2417 - accuracy: 0.9027\n",
      "Epoch 56/100\n",
      "750/750 [==============================] - 0s 35us/sample - loss: 0.2411 - accuracy: 0.9040\n",
      "Epoch 57/100\n",
      "750/750 [==============================] - 0s 36us/sample - loss: 0.2406 - accuracy: 0.9040\n",
      "Epoch 58/100\n",
      "750/750 [==============================] - 0s 36us/sample - loss: 0.2400 - accuracy: 0.9040\n",
      "Epoch 59/100\n",
      "750/750 [==============================] - 0s 37us/sample - loss: 0.2394 - accuracy: 0.9040\n",
      "Epoch 60/100\n",
      "750/750 [==============================] - 0s 36us/sample - loss: 0.2388 - accuracy: 0.9040\n",
      "Epoch 61/100\n",
      "750/750 [==============================] - 0s 35us/sample - loss: 0.2383 - accuracy: 0.9053\n",
      "Epoch 62/100\n",
      "750/750 [==============================] - 0s 35us/sample - loss: 0.2378 - accuracy: 0.9053\n",
      "Epoch 63/100\n",
      "750/750 [==============================] - 0s 35us/sample - loss: 0.2372 - accuracy: 0.9053\n",
      "Epoch 64/100\n",
      "750/750 [==============================] - 0s 35us/sample - loss: 0.2367 - accuracy: 0.9053\n",
      "Epoch 65/100\n",
      "750/750 [==============================] - 0s 35us/sample - loss: 0.2361 - accuracy: 0.9053\n",
      "Epoch 66/100\n",
      "750/750 [==============================] - 0s 35us/sample - loss: 0.2356 - accuracy: 0.9053\n",
      "Epoch 67/100\n",
      "750/750 [==============================] - 0s 35us/sample - loss: 0.2350 - accuracy: 0.9067\n",
      "Epoch 68/100\n",
      "750/750 [==============================] - 0s 35us/sample - loss: 0.2344 - accuracy: 0.9067\n",
      "Epoch 69/100\n",
      "750/750 [==============================] - 0s 35us/sample - loss: 0.2338 - accuracy: 0.9067\n",
      "Epoch 70/100\n",
      "750/750 [==============================] - 0s 34us/sample - loss: 0.2333 - accuracy: 0.9067\n",
      "Epoch 71/100\n",
      "750/750 [==============================] - 0s 35us/sample - loss: 0.2326 - accuracy: 0.9067\n",
      "Epoch 72/100\n",
      "750/750 [==============================] - 0s 35us/sample - loss: 0.2319 - accuracy: 0.9067\n",
      "Epoch 73/100\n",
      "750/750 [==============================] - 0s 35us/sample - loss: 0.2313 - accuracy: 0.9067\n",
      "Epoch 74/100\n",
      "750/750 [==============================] - 0s 36us/sample - loss: 0.2307 - accuracy: 0.9067\n",
      "Epoch 75/100\n",
      "750/750 [==============================] - 0s 36us/sample - loss: 0.2302 - accuracy: 0.9067\n",
      "Epoch 76/100\n",
      "750/750 [==============================] - 0s 37us/sample - loss: 0.2295 - accuracy: 0.9067\n",
      "Epoch 77/100\n",
      "750/750 [==============================] - 0s 35us/sample - loss: 0.2289 - accuracy: 0.9067\n",
      "Epoch 78/100\n"
     ]
    },
    {
     "name": "stdout",
     "output_type": "stream",
     "text": [
      "750/750 [==============================] - 0s 38us/sample - loss: 0.2283 - accuracy: 0.9080\n",
      "Epoch 79/100\n",
      "750/750 [==============================] - 0s 38us/sample - loss: 0.2275 - accuracy: 0.9080\n",
      "Epoch 80/100\n",
      "750/750 [==============================] - 0s 36us/sample - loss: 0.2270 - accuracy: 0.9080\n",
      "Epoch 81/100\n",
      "750/750 [==============================] - 0s 34us/sample - loss: 0.2262 - accuracy: 0.9080\n",
      "Epoch 82/100\n",
      "750/750 [==============================] - 0s 35us/sample - loss: 0.2255 - accuracy: 0.9080\n",
      "Epoch 83/100\n",
      "750/750 [==============================] - 0s 35us/sample - loss: 0.2246 - accuracy: 0.9080\n",
      "Epoch 84/100\n",
      "750/750 [==============================] - 0s 35us/sample - loss: 0.2241 - accuracy: 0.9120\n",
      "Epoch 85/100\n",
      "750/750 [==============================] - 0s 36us/sample - loss: 0.2232 - accuracy: 0.9107\n",
      "Epoch 86/100\n",
      "750/750 [==============================] - 0s 34us/sample - loss: 0.2225 - accuracy: 0.9107\n",
      "Epoch 87/100\n",
      "750/750 [==============================] - 0s 36us/sample - loss: 0.2216 - accuracy: 0.9133\n",
      "Epoch 88/100\n",
      "750/750 [==============================] - 0s 34us/sample - loss: 0.2208 - accuracy: 0.9147\n",
      "Epoch 89/100\n",
      "750/750 [==============================] - 0s 35us/sample - loss: 0.2200 - accuracy: 0.9147\n",
      "Epoch 90/100\n",
      "750/750 [==============================] - 0s 35us/sample - loss: 0.2192 - accuracy: 0.9147\n",
      "Epoch 91/100\n",
      "750/750 [==============================] - 0s 35us/sample - loss: 0.2183 - accuracy: 0.9147\n",
      "Epoch 92/100\n",
      "750/750 [==============================] - 0s 35us/sample - loss: 0.2176 - accuracy: 0.9147\n",
      "Epoch 93/100\n",
      "750/750 [==============================] - 0s 35us/sample - loss: 0.2166 - accuracy: 0.9147\n",
      "Epoch 94/100\n",
      "750/750 [==============================] - 0s 35us/sample - loss: 0.2160 - accuracy: 0.9147\n",
      "Epoch 95/100\n",
      "750/750 [==============================] - 0s 36us/sample - loss: 0.2149 - accuracy: 0.9147\n",
      "Epoch 96/100\n",
      "750/750 [==============================] - 0s 35us/sample - loss: 0.2140 - accuracy: 0.9147\n",
      "Epoch 97/100\n",
      "750/750 [==============================] - 0s 35us/sample - loss: 0.2131 - accuracy: 0.9147\n",
      "Epoch 98/100\n",
      "750/750 [==============================] - 0s 36us/sample - loss: 0.2121 - accuracy: 0.9147\n",
      "Epoch 99/100\n",
      "750/750 [==============================] - 0s 34us/sample - loss: 0.2113 - accuracy: 0.9147\n",
      "Epoch 100/100\n",
      "750/750 [==============================] - 0s 34us/sample - loss: 0.2102 - accuracy: 0.9147\n"
     ]
    }
   ],
   "source": [
    "# Compile the Sequential model together and customize metrics\n",
    "new_model.compile(loss=\"binary_crossentropy\", optimizer=\"adam\", metrics=[\"accuracy\"])\n",
    "\n",
    "# Fit the model to the training data\n",
    "new_fit_model = new_model.fit(X_moon_train_scaled, y_moon_train, epochs=100, shuffle=True)"
   ]
  },
  {
   "cell_type": "code",
   "execution_count": 52,
   "id": "d4362a77",
   "metadata": {
    "scrolled": true
   },
   "outputs": [
    {
     "data": {
      "text/plain": [
       "<AxesSubplot:xlabel='Feature 1', ylabel='Feature 2'>"
      ]
     },
     "execution_count": 52,
     "metadata": {},
     "output_type": "execute_result"
    },
    {
     "data": {
      "image/png": "[encoded data removed]",
      "text/plain": [
       "<Figure size 432x288 with 2 Axes>"
      ]
     },
     "metadata": {
      "needs_background": "light"
     },
     "output_type": "display_data"
    }
   ],
   "source": [
    "## SKILL DRILL\n",
    "from sklearn.datasets import make_circles\n",
    "# Creating dummy nonlinear data\n",
    "X_circles, y_circles = make_circles(n_samples=1000, random_state=78)\n",
    "\n",
    "# Transforming y_circles to a vertical vector\n",
    "y_circles = y_circles.reshape(-1, 1)\n",
    "\n",
    "# Creating a DataFrame to plot the nonlinear dummy data\n",
    "df_circles = pd.DataFrame(X_circles, columns=[\"Feature 1\", \"Feature 2\"])\n",
    "df_circles[\"Target\"] = y_circles\n",
    "\n",
    "# Plot the nonlinear dummy data\n",
    "df_circles.plot.scatter(x=\"Feature 1\",y=\"Feature 2\", c=\"Target\",colormap=\"winter\")"
   ]
  },
  {
   "cell_type": "code",
   "execution_count": 53,
   "id": "73be60cb",
   "metadata": {},
   "outputs": [],
   "source": [
    "# Create training and testing sets\n",
    "X_circles_train, X_circles_test, y_circles_train, y_circles_test = train_test_split(\n",
    "    X_circles, y_circles, random_state=78\n",
    ")\n",
    "\n",
    "# Create the scaler instance\n",
    "X_circles_scaler = skl.preprocessing.StandardScaler()\n",
    "\n",
    "# Fit the scaler\n",
    "X_circles_scaler.fit(X_circles_train)\n",
    "\n",
    "# Scale the data\n",
    "X_circles_train_scaled = X_circles_scaler.transform(X_circles_train)\n",
    "X_circles_test_scaled = X_circles_scaler.transform(X_circles_test)"
   ]
  },
  {
   "cell_type": "code",
   "execution_count": 58,
   "id": "614810c6",
   "metadata": {},
   "outputs": [],
   "source": [
    "cir_model = tf.keras.models.Sequential()"
   ]
  },
  {
   "cell_type": "code",
   "execution_count": 59,
   "id": "6f49e240",
   "metadata": {},
   "outputs": [],
   "source": [
    "cir_model.add(tf.keras.layers.Dense(units=2, activation=\"relu\", input_dim=6))\n",
    "\n",
    "# Add the output layer that uses a probability activation function\n",
    "cir_model.add(tf.keras.layers.Dense(units=1, activation=\"sigmoid\"))"
   ]
  },
  {
   "cell_type": "code",
   "execution_count": 56,
   "id": "a9cd8b62",
   "metadata": {},
   "outputs": [
    {
     "name": "stdout",
     "output_type": "stream",
     "text": [
      "Train on 750 samples\n",
      "Epoch 1/100\n",
      "750/750 [==============================] - 0s 83us/sample - loss: 0.6910 - accuracy: 0.4973\n",
      "Epoch 2/100\n",
      "750/750 [==============================] - 0s 34us/sample - loss: 0.6907 - accuracy: 0.5227\n",
      "Epoch 3/100\n",
      "750/750 [==============================] - 0s 32us/sample - loss: 0.6907 - accuracy: 0.4773\n",
      "Epoch 4/100\n",
      "750/750 [==============================] - 0s 32us/sample - loss: 0.6908 - accuracy: 0.5107\n",
      "Epoch 5/100\n",
      "750/750 [==============================] - 0s 33us/sample - loss: 0.6907 - accuracy: 0.5307\n",
      "Epoch 6/100\n",
      "750/750 [==============================] - 0s 33us/sample - loss: 0.6908 - accuracy: 0.4933\n",
      "Epoch 7/100\n",
      "750/750 [==============================] - 0s 33us/sample - loss: 0.6907 - accuracy: 0.5213\n",
      "Epoch 8/100\n",
      "750/750 [==============================] - 0s 33us/sample - loss: 0.6908 - accuracy: 0.5307\n",
      "Epoch 9/100\n",
      "750/750 [==============================] - 0s 33us/sample - loss: 0.6908 - accuracy: 0.5307\n",
      "Epoch 10/100\n",
      "750/750 [==============================] - 0s 33us/sample - loss: 0.6908 - accuracy: 0.5187\n",
      "Epoch 11/100\n",
      "750/750 [==============================] - 0s 33us/sample - loss: 0.6906 - accuracy: 0.5307\n",
      "Epoch 12/100\n",
      "750/750 [==============================] - 0s 33us/sample - loss: 0.6908 - accuracy: 0.5307\n",
      "Epoch 13/100\n",
      "750/750 [==============================] - 0s 34us/sample - loss: 0.6909 - accuracy: 0.5000\n",
      "Epoch 14/100\n",
      "750/750 [==============================] - 0s 33us/sample - loss: 0.6908 - accuracy: 0.5107\n",
      "Epoch 15/100\n",
      "750/750 [==============================] - 0s 33us/sample - loss: 0.6909 - accuracy: 0.4693\n",
      "Epoch 16/100\n",
      "750/750 [==============================] - 0s 33us/sample - loss: 0.6907 - accuracy: 0.5067\n",
      "Epoch 17/100\n",
      "750/750 [==============================] - 0s 34us/sample - loss: 0.6909 - accuracy: 0.5267\n",
      "Epoch 18/100\n",
      "750/750 [==============================] - 0s 35us/sample - loss: 0.6909 - accuracy: 0.5307\n",
      "Epoch 19/100\n",
      "750/750 [==============================] - 0s 36us/sample - loss: 0.6909 - accuracy: 0.5227\n",
      "Epoch 20/100\n",
      "750/750 [==============================] - 0s 33us/sample - loss: 0.6910 - accuracy: 0.4840\n",
      "Epoch 21/100\n",
      "750/750 [==============================] - 0s 33us/sample - loss: 0.6906 - accuracy: 0.5107\n",
      "Epoch 22/100\n",
      "750/750 [==============================] - 0s 34us/sample - loss: 0.6908 - accuracy: 0.5307\n",
      "Epoch 23/100\n",
      "750/750 [==============================] - 0s 34us/sample - loss: 0.6907 - accuracy: 0.5227\n",
      "Epoch 24/100\n",
      "750/750 [==============================] - 0s 34us/sample - loss: 0.6909 - accuracy: 0.4747\n",
      "Epoch 25/100\n",
      "750/750 [==============================] - 0s 34us/sample - loss: 0.6907 - accuracy: 0.5013\n",
      "Epoch 26/100\n",
      "750/750 [==============================] - 0s 34us/sample - loss: 0.6908 - accuracy: 0.4733\n",
      "Epoch 27/100\n",
      "750/750 [==============================] - 0s 34us/sample - loss: 0.6908 - accuracy: 0.4933\n",
      "Epoch 28/100\n",
      "750/750 [==============================] - 0s 34us/sample - loss: 0.6908 - accuracy: 0.4587\n",
      "Epoch 29/100\n",
      "750/750 [==============================] - 0s 35us/sample - loss: 0.6907 - accuracy: 0.4520\n",
      "Epoch 30/100\n",
      "750/750 [==============================] - 0s 33us/sample - loss: 0.6909 - accuracy: 0.5147\n",
      "Epoch 31/100\n",
      "750/750 [==============================] - 0s 34us/sample - loss: 0.6906 - accuracy: 0.5093\n",
      "Epoch 32/100\n",
      "750/750 [==============================] - 0s 34us/sample - loss: 0.6909 - accuracy: 0.5280\n",
      "Epoch 33/100\n",
      "750/750 [==============================] - 0s 35us/sample - loss: 0.6906 - accuracy: 0.5307\n",
      "Epoch 34/100\n",
      "750/750 [==============================] - 0s 34us/sample - loss: 0.6908 - accuracy: 0.5107\n",
      "Epoch 35/100\n",
      "750/750 [==============================] - 0s 37us/sample - loss: 0.6911 - accuracy: 0.5267\n",
      "Epoch 36/100\n",
      "750/750 [==============================] - 0s 36us/sample - loss: 0.6906 - accuracy: 0.5307\n",
      "Epoch 37/100\n",
      "750/750 [==============================] - 0s 35us/sample - loss: 0.6907 - accuracy: 0.4787\n",
      "Epoch 38/100\n",
      "750/750 [==============================] - 0s 34us/sample - loss: 0.6907 - accuracy: 0.5013\n",
      "Epoch 39/100\n",
      "750/750 [==============================] - 0s 35us/sample - loss: 0.6907 - accuracy: 0.5307\n",
      "Epoch 40/100\n",
      "750/750 [==============================] - 0s 35us/sample - loss: 0.6908 - accuracy: 0.5280\n",
      "Epoch 41/100\n",
      "750/750 [==============================] - 0s 33us/sample - loss: 0.6908 - accuracy: 0.5040\n",
      "Epoch 42/100\n",
      "750/750 [==============================] - 0s 33us/sample - loss: 0.6907 - accuracy: 0.5307\n",
      "Epoch 43/100\n",
      "750/750 [==============================] - 0s 33us/sample - loss: 0.6907 - accuracy: 0.5307\n",
      "Epoch 44/100\n",
      "750/750 [==============================] - 0s 34us/sample - loss: 0.6909 - accuracy: 0.5307\n",
      "Epoch 45/100\n",
      "750/750 [==============================] - 0s 33us/sample - loss: 0.6907 - accuracy: 0.5307\n",
      "Epoch 46/100\n",
      "750/750 [==============================] - 0s 33us/sample - loss: 0.6909 - accuracy: 0.5267\n",
      "Epoch 47/100\n",
      "750/750 [==============================] - 0s 34us/sample - loss: 0.6907 - accuracy: 0.5307\n",
      "Epoch 48/100\n",
      "750/750 [==============================] - 0s 33us/sample - loss: 0.6907 - accuracy: 0.5307\n",
      "Epoch 49/100\n",
      "750/750 [==============================] - 0s 33us/sample - loss: 0.6908 - accuracy: 0.5307\n",
      "Epoch 50/100\n",
      "750/750 [==============================] - 0s 33us/sample - loss: 0.6907 - accuracy: 0.5307\n",
      "Epoch 51/100\n",
      "750/750 [==============================] - 0s 33us/sample - loss: 0.6907 - accuracy: 0.5307\n",
      "Epoch 52/100\n",
      "750/750 [==============================] - 0s 33us/sample - loss: 0.6907 - accuracy: 0.5080\n",
      "Epoch 53/100\n",
      "750/750 [==============================] - 0s 33us/sample - loss: 0.6907 - accuracy: 0.4693\n",
      "Epoch 54/100\n",
      "750/750 [==============================] - 0s 33us/sample - loss: 0.6907 - accuracy: 0.5267\n",
      "Epoch 55/100\n",
      "750/750 [==============================] - 0s 33us/sample - loss: 0.6907 - accuracy: 0.5213\n",
      "Epoch 56/100\n",
      "750/750 [==============================] - 0s 33us/sample - loss: 0.6907 - accuracy: 0.5187\n",
      "Epoch 57/100\n",
      "750/750 [==============================] - 0s 34us/sample - loss: 0.6907 - accuracy: 0.4773\n",
      "Epoch 58/100\n",
      "750/750 [==============================] - 0s 33us/sample - loss: 0.6907 - accuracy: 0.5293\n",
      "Epoch 59/100\n",
      "750/750 [==============================] - 0s 34us/sample - loss: 0.6907 - accuracy: 0.5307\n",
      "Epoch 60/100\n",
      "750/750 [==============================] - 0s 35us/sample - loss: 0.6908 - accuracy: 0.5307\n",
      "Epoch 61/100\n",
      "750/750 [==============================] - 0s 35us/sample - loss: 0.6908 - accuracy: 0.5200\n",
      "Epoch 62/100\n",
      "750/750 [==============================] - 0s 34us/sample - loss: 0.6907 - accuracy: 0.5027\n",
      "Epoch 63/100\n",
      "750/750 [==============================] - 0s 34us/sample - loss: 0.6908 - accuracy: 0.5307\n",
      "Epoch 64/100\n",
      "750/750 [==============================] - 0s 33us/sample - loss: 0.6908 - accuracy: 0.5307\n",
      "Epoch 65/100\n",
      "750/750 [==============================] - 0s 35us/sample - loss: 0.6907 - accuracy: 0.5013\n",
      "Epoch 66/100\n",
      "750/750 [==============================] - 0s 34us/sample - loss: 0.6906 - accuracy: 0.5240\n",
      "Epoch 67/100\n",
      "750/750 [==============================] - 0s 35us/sample - loss: 0.6908 - accuracy: 0.5227\n",
      "Epoch 68/100\n",
      "750/750 [==============================] - 0s 33us/sample - loss: 0.6909 - accuracy: 0.4627\n",
      "Epoch 69/100\n",
      "750/750 [==============================] - 0s 35us/sample - loss: 0.6911 - accuracy: 0.5227\n",
      "Epoch 70/100\n",
      "750/750 [==============================] - 0s 33us/sample - loss: 0.6908 - accuracy: 0.4987\n",
      "Epoch 71/100\n",
      "750/750 [==============================] - 0s 34us/sample - loss: 0.6907 - accuracy: 0.4773\n",
      "Epoch 72/100\n",
      "750/750 [==============================] - 0s 34us/sample - loss: 0.6907 - accuracy: 0.4640\n",
      "Epoch 73/100\n",
      "750/750 [==============================] - 0s 34us/sample - loss: 0.6910 - accuracy: 0.4533\n",
      "Epoch 74/100\n",
      "750/750 [==============================] - 0s 35us/sample - loss: 0.6907 - accuracy: 0.4440\n",
      "Epoch 75/100\n",
      "750/750 [==============================] - 0s 36us/sample - loss: 0.6906 - accuracy: 0.5293\n",
      "Epoch 76/100\n",
      "750/750 [==============================] - 0s 36us/sample - loss: 0.6907 - accuracy: 0.5307\n",
      "Epoch 77/100\n",
      "750/750 [==============================] - 0s 34us/sample - loss: 0.6909 - accuracy: 0.5307\n",
      "Epoch 78/100\n"
     ]
    },
    {
     "name": "stdout",
     "output_type": "stream",
     "text": [
      "750/750 [==============================] - 0s 34us/sample - loss: 0.6907 - accuracy: 0.5307\n",
      "Epoch 79/100\n",
      "750/750 [==============================] - 0s 33us/sample - loss: 0.6908 - accuracy: 0.5307\n",
      "Epoch 80/100\n",
      "750/750 [==============================] - 0s 33us/sample - loss: 0.6907 - accuracy: 0.5307\n",
      "Epoch 81/100\n",
      "750/750 [==============================] - 0s 33us/sample - loss: 0.6908 - accuracy: 0.4907\n",
      "Epoch 82/100\n",
      "750/750 [==============================] - 0s 36us/sample - loss: 0.6907 - accuracy: 0.5053\n",
      "Epoch 83/100\n",
      "750/750 [==============================] - 0s 33us/sample - loss: 0.6906 - accuracy: 0.5307\n",
      "Epoch 84/100\n",
      "750/750 [==============================] - 0s 33us/sample - loss: 0.6907 - accuracy: 0.5227\n",
      "Epoch 85/100\n",
      "750/750 [==============================] - 0s 35us/sample - loss: 0.6907 - accuracy: 0.5307\n",
      "Epoch 86/100\n",
      "750/750 [==============================] - 0s 33us/sample - loss: 0.6908 - accuracy: 0.5307\n",
      "Epoch 87/100\n",
      "750/750 [==============================] - 0s 33us/sample - loss: 0.6907 - accuracy: 0.5307\n",
      "Epoch 88/100\n",
      "750/750 [==============================] - 0s 34us/sample - loss: 0.6906 - accuracy: 0.5307\n",
      "Epoch 89/100\n",
      "750/750 [==============================] - 0s 35us/sample - loss: 0.6908 - accuracy: 0.5120\n",
      "Epoch 90/100\n",
      "750/750 [==============================] - 0s 33us/sample - loss: 0.6907 - accuracy: 0.5307\n",
      "Epoch 91/100\n",
      "750/750 [==============================] - 0s 33us/sample - loss: 0.6908 - accuracy: 0.5307\n",
      "Epoch 92/100\n",
      "750/750 [==============================] - 0s 31us/sample - loss: 0.6908 - accuracy: 0.5307\n",
      "Epoch 93/100\n",
      "750/750 [==============================] - 0s 32us/sample - loss: 0.6910 - accuracy: 0.4733\n",
      "Epoch 94/100\n",
      "750/750 [==============================] - 0s 31us/sample - loss: 0.6907 - accuracy: 0.5120\n",
      "Epoch 95/100\n",
      "750/750 [==============================] - 0s 32us/sample - loss: 0.6906 - accuracy: 0.5307\n",
      "Epoch 96/100\n",
      "750/750 [==============================] - 0s 32us/sample - loss: 0.6910 - accuracy: 0.5307\n",
      "Epoch 97/100\n",
      "750/750 [==============================] - 0s 32us/sample - loss: 0.6908 - accuracy: 0.5240\n",
      "Epoch 98/100\n",
      "750/750 [==============================] - 0s 32us/sample - loss: 0.6908 - accuracy: 0.5307\n",
      "Epoch 99/100\n",
      "750/750 [==============================] - 0s 32us/sample - loss: 0.6912 - accuracy: 0.5307\n",
      "Epoch 100/100\n",
      "750/750 [==============================] - 0s 33us/sample - loss: 0.6908 - accuracy: 0.5307\n"
     ]
    }
   ],
   "source": [
    "# Training the model with the nonlinear data\n",
    "model_circles = nn_model.fit(X_circles_train_scaled, y_circles_train, epochs=100, shuffle=True)\n",
    "\n",
    "# perfomed worse"
   ]
  },
  {
   "cell_type": "code",
   "execution_count": null,
   "id": "2e8209fc",
   "metadata": {},
   "outputs": [],
   "source": []
  }
 ],
 "metadata": {
  "kernelspec": {
   "display_name": "mlenv",
   "language": "python",
   "name": "mlenv"
  },
  "language_info": {
   "codemirror_mode": {
    "name": "ipython",
    "version": 3
   },
   "file_extension": ".py",
   "mimetype": "text/x-python",
   "name": "python",
   "nbconvert_exporter": "python",
   "pygments_lexer": "ipython3",
   "version": "3.7.13"
  }
 },
 "nbformat": 4,
 "nbformat_minor": 5
}
