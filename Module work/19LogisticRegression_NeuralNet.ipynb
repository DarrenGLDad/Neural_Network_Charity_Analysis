{
 "cells": [
  {
   "cell_type": "code",
   "execution_count": 1,
   "id": "025086e6",
   "metadata": {},
   "outputs": [
    {
     "data": {
      "text/html": [
       "<div>\n",
       "<style scoped>\n",
       "    .dataframe tbody tr th:only-of-type {\n",
       "        vertical-align: middle;\n",
       "    }\n",
       "\n",
       "    .dataframe tbody tr th {\n",
       "        vertical-align: top;\n",
       "    }\n",
       "\n",
       "    .dataframe thead th {\n",
       "        text-align: right;\n",
       "    }\n",
       "</style>\n",
       "<table border=\"1\" class=\"dataframe\">\n",
       "  <thead>\n",
       "    <tr style=\"text-align: right;\">\n",
       "      <th></th>\n",
       "      <th>Pregnancies</th>\n",
       "      <th>Glucose</th>\n",
       "      <th>BloodPressure</th>\n",
       "      <th>SkinThickness</th>\n",
       "      <th>Insulin</th>\n",
       "      <th>BMI</th>\n",
       "      <th>DiabetesPedigreeFunction</th>\n",
       "      <th>Age</th>\n",
       "      <th>Outcome</th>\n",
       "    </tr>\n",
       "  </thead>\n",
       "  <tbody>\n",
       "    <tr>\n",
       "      <th>0</th>\n",
       "      <td>6</td>\n",
       "      <td>148</td>\n",
       "      <td>72</td>\n",
       "      <td>35</td>\n",
       "      <td>0</td>\n",
       "      <td>33.6</td>\n",
       "      <td>0.627</td>\n",
       "      <td>50</td>\n",
       "      <td>1</td>\n",
       "    </tr>\n",
       "    <tr>\n",
       "      <th>1</th>\n",
       "      <td>1</td>\n",
       "      <td>85</td>\n",
       "      <td>66</td>\n",
       "      <td>29</td>\n",
       "      <td>0</td>\n",
       "      <td>26.6</td>\n",
       "      <td>0.351</td>\n",
       "      <td>31</td>\n",
       "      <td>0</td>\n",
       "    </tr>\n",
       "    <tr>\n",
       "      <th>2</th>\n",
       "      <td>8</td>\n",
       "      <td>183</td>\n",
       "      <td>64</td>\n",
       "      <td>0</td>\n",
       "      <td>0</td>\n",
       "      <td>23.3</td>\n",
       "      <td>0.672</td>\n",
       "      <td>32</td>\n",
       "      <td>1</td>\n",
       "    </tr>\n",
       "    <tr>\n",
       "      <th>3</th>\n",
       "      <td>1</td>\n",
       "      <td>89</td>\n",
       "      <td>66</td>\n",
       "      <td>23</td>\n",
       "      <td>94</td>\n",
       "      <td>28.1</td>\n",
       "      <td>0.167</td>\n",
       "      <td>21</td>\n",
       "      <td>0</td>\n",
       "    </tr>\n",
       "    <tr>\n",
       "      <th>4</th>\n",
       "      <td>0</td>\n",
       "      <td>137</td>\n",
       "      <td>40</td>\n",
       "      <td>35</td>\n",
       "      <td>168</td>\n",
       "      <td>43.1</td>\n",
       "      <td>2.288</td>\n",
       "      <td>33</td>\n",
       "      <td>1</td>\n",
       "    </tr>\n",
       "  </tbody>\n",
       "</table>\n",
       "</div>"
      ],
      "text/plain": [
       "   Pregnancies  Glucose  BloodPressure  SkinThickness  Insulin   BMI  \\\n",
       "0            6      148             72             35        0  33.6   \n",
       "1            1       85             66             29        0  26.6   \n",
       "2            8      183             64              0        0  23.3   \n",
       "3            1       89             66             23       94  28.1   \n",
       "4            0      137             40             35      168  43.1   \n",
       "\n",
       "   DiabetesPedigreeFunction  Age  Outcome  \n",
       "0                     0.627   50        1  \n",
       "1                     0.351   31        0  \n",
       "2                     0.672   32        1  \n",
       "3                     0.167   21        0  \n",
       "4                     2.288   33        1  "
      ]
     },
     "execution_count": 1,
     "metadata": {},
     "output_type": "execute_result"
    }
   ],
   "source": [
    "# Import our dependencies\n",
    "from sklearn.model_selection import train_test_split\n",
    "from sklearn.preprocessing import StandardScaler\n",
    "from sklearn.linear_model import LogisticRegression\n",
    "from sklearn.metrics import accuracy_score\n",
    "import pandas as pd\n",
    "import tensorflow as tf\n",
    "\n",
    "# Import our input dataset\n",
    "diabetes_df = pd.read_csv('diabetes.csv')\n",
    "diabetes_df.head()"
   ]
  },
  {
   "cell_type": "code",
   "execution_count": 3,
   "id": "8f36d96b",
   "metadata": {},
   "outputs": [],
   "source": [
    "# Remove diabetes outcome target from features data (column)\n",
    "y = diabetes_df.Outcome\n",
    "X = diabetes_df.drop(columns=\"Outcome\")\n",
    "\n",
    "# Split training/test datasets\n",
    "X_train, X_test, y_train, y_test = train_test_split(X, y, random_state=42, stratify=y)"
   ]
  },
  {
   "cell_type": "code",
   "execution_count": 3,
   "id": "0b12265b",
   "metadata": {},
   "outputs": [],
   "source": [
    "# Preprocess numerical data for neural network\n",
    "\n",
    "# Create a StandardScaler instance\n",
    "scaler = StandardScaler()\n",
    "\n",
    "# Fit the StandardScaler\n",
    "X_scaler = scaler.fit(X_train)\n",
    "\n",
    "# Scale the data\n",
    "X_train_scaled = X_scaler.transform(X_train)\n",
    "X_test_scaled = X_scaler.transform(X_test)"
   ]
  },
  {
   "cell_type": "code",
   "execution_count": 4,
   "id": "f70f6aa6",
   "metadata": {},
   "outputs": [
    {
     "name": "stdout",
     "output_type": "stream",
     "text": [
      " Logistic regression model accuracy: 0.729\n"
     ]
    }
   ],
   "source": [
    "# Define the logistic regression model\n",
    "log_classifier = LogisticRegression(solver=\"lbfgs\",max_iter=200)\n",
    "\n",
    "# Train the model\n",
    "log_classifier.fit(X_train,y_train)\n",
    "\n",
    "# Evaluate the model\n",
    "y_pred = log_classifier.predict(X_test)\n",
    "print(f\" Logistic regression model accuracy: {accuracy_score(y_test,y_pred):.3f}\")"
   ]
  },
  {
   "cell_type": "code",
   "execution_count": 5,
   "id": "b493d270",
   "metadata": {},
   "outputs": [],
   "source": [
    "from sklearn.model_selection import train_test_split\n",
    "from sklearn.preprocessing import StandardScaler"
   ]
  },
  {
   "cell_type": "code",
   "execution_count": 4,
   "id": "1343fa57",
   "metadata": {},
   "outputs": [],
   "source": [
    "import numpy as np\n",
    "y_train=np.array(y_train)"
   ]
  },
  {
   "cell_type": "code",
   "execution_count": 5,
   "id": "252b3fe9",
   "metadata": {},
   "outputs": [
    {
     "name": "stdout",
     "output_type": "stream",
     "text": [
      "WARNING:tensorflow:Falling back from v2 loop because of error: Failed to find data adapter that can handle input: <class 'pandas.core.frame.DataFrame'>, <class 'NoneType'>\n"
     ]
    },
    {
     "name": "stderr",
     "output_type": "stream",
     "text": [
      "2022-07-05 17:05:09.057652: I tensorflow/core/platform/cpu_feature_guard.cc:145] This TensorFlow binary is optimized with Intel(R) MKL-DNN to use the following CPU instructions in performance critical operations:  SSE4.1 SSE4.2\n",
      "To enable them in non-MKL-DNN operations, rebuild TensorFlow with the appropriate compiler flags.\n",
      "2022-07-05 17:05:09.059019: I tensorflow/core/common_runtime/process_util.cc:115] Creating new thread pool with default inter op setting: 8. Tune using inter_op_parallelism_threads for best performance.\n"
     ]
    },
    {
     "name": "stdout",
     "output_type": "stream",
     "text": [
      "Train on 576 samples\n",
      "Epoch 1/50\n",
      "576/576 [==============================] - 0s 478us/sample - loss: 9.1515 - accuracy: 0.3594\n",
      "Epoch 2/50\n",
      "576/576 [==============================] - 0s 32us/sample - loss: 6.7053 - accuracy: 0.4306\n",
      "Epoch 3/50\n",
      "576/576 [==============================] - 0s 33us/sample - loss: 4.5978 - accuracy: 0.5677\n",
      "Epoch 4/50\n",
      "576/576 [==============================] - 0s 34us/sample - loss: 3.3518 - accuracy: 0.6319\n",
      "Epoch 5/50\n",
      "576/576 [==============================] - 0s 32us/sample - loss: 2.5659 - accuracy: 0.6458\n",
      "Epoch 6/50\n",
      "576/576 [==============================] - 0s 31us/sample - loss: 2.1561 - accuracy: 0.6128\n",
      "Epoch 7/50\n",
      "576/576 [==============================] - 0s 32us/sample - loss: 1.9841 - accuracy: 0.6111\n",
      "Epoch 8/50\n",
      "576/576 [==============================] - 0s 33us/sample - loss: 1.8552 - accuracy: 0.6285\n",
      "Epoch 9/50\n",
      "576/576 [==============================] - 0s 31us/sample - loss: 1.7211 - accuracy: 0.6302\n",
      "Epoch 10/50\n",
      "576/576 [==============================] - 0s 32us/sample - loss: 1.6203 - accuracy: 0.6406\n",
      "Epoch 11/50\n",
      "576/576 [==============================] - 0s 33us/sample - loss: 1.4939 - accuracy: 0.6198\n",
      "Epoch 12/50\n",
      "576/576 [==============================] - 0s 34us/sample - loss: 1.3609 - accuracy: 0.6319\n",
      "Epoch 13/50\n",
      "576/576 [==============================] - 0s 34us/sample - loss: 1.2951 - accuracy: 0.6441\n",
      "Epoch 14/50\n",
      "576/576 [==============================] - 0s 33us/sample - loss: 1.1937 - accuracy: 0.6389\n",
      "Epoch 15/50\n",
      "576/576 [==============================] - 0s 34us/sample - loss: 1.1150 - accuracy: 0.6354\n",
      "Epoch 16/50\n",
      "576/576 [==============================] - 0s 34us/sample - loss: 1.0434 - accuracy: 0.6372\n",
      "Epoch 17/50\n",
      "576/576 [==============================] - 0s 35us/sample - loss: 0.9980 - accuracy: 0.6389\n",
      "Epoch 18/50\n",
      "576/576 [==============================] - 0s 33us/sample - loss: 0.9445 - accuracy: 0.6458\n",
      "Epoch 19/50\n",
      "576/576 [==============================] - 0s 34us/sample - loss: 0.9279 - accuracy: 0.6406\n",
      "Epoch 20/50\n",
      "576/576 [==============================] - 0s 33us/sample - loss: 0.8835 - accuracy: 0.6562\n",
      "Epoch 21/50\n",
      "576/576 [==============================] - 0s 33us/sample - loss: 0.8293 - accuracy: 0.6597\n",
      "Epoch 22/50\n",
      "576/576 [==============================] - 0s 34us/sample - loss: 0.8059 - accuracy: 0.6684\n",
      "Epoch 23/50\n",
      "576/576 [==============================] - 0s 34us/sample - loss: 0.7738 - accuracy: 0.6771\n",
      "Epoch 24/50\n",
      "576/576 [==============================] - 0s 33us/sample - loss: 0.7792 - accuracy: 0.6545\n",
      "Epoch 25/50\n",
      "576/576 [==============================] - 0s 35us/sample - loss: 0.7698 - accuracy: 0.6406\n",
      "Epoch 26/50\n",
      "576/576 [==============================] - 0s 34us/sample - loss: 0.7655 - accuracy: 0.6719\n",
      "Epoch 27/50\n",
      "576/576 [==============================] - 0s 34us/sample - loss: 0.7238 - accuracy: 0.6875\n",
      "Epoch 28/50\n",
      "576/576 [==============================] - 0s 36us/sample - loss: 0.6898 - accuracy: 0.6806\n",
      "Epoch 29/50\n",
      "576/576 [==============================] - 0s 34us/sample - loss: 0.6745 - accuracy: 0.6823\n",
      "Epoch 30/50\n",
      "576/576 [==============================] - 0s 33us/sample - loss: 0.6671 - accuracy: 0.6823\n",
      "Epoch 31/50\n",
      "576/576 [==============================] - 0s 33us/sample - loss: 0.6576 - accuracy: 0.6875\n",
      "Epoch 32/50\n",
      "576/576 [==============================] - 0s 33us/sample - loss: 0.6572 - accuracy: 0.6736\n",
      "Epoch 33/50\n",
      "576/576 [==============================] - 0s 33us/sample - loss: 0.6407 - accuracy: 0.6753\n",
      "Epoch 34/50\n",
      "576/576 [==============================] - 0s 34us/sample - loss: 0.6366 - accuracy: 0.7049\n",
      "Epoch 35/50\n",
      "576/576 [==============================] - 0s 38us/sample - loss: 0.6493 - accuracy: 0.6927\n",
      "Epoch 36/50\n",
      "576/576 [==============================] - 0s 35us/sample - loss: 0.6321 - accuracy: 0.6892\n",
      "Epoch 37/50\n",
      "576/576 [==============================] - 0s 36us/sample - loss: 0.6233 - accuracy: 0.6979\n",
      "Epoch 38/50\n",
      "576/576 [==============================] - 0s 35us/sample - loss: 0.6451 - accuracy: 0.6858\n",
      "Epoch 39/50\n",
      "576/576 [==============================] - 0s 33us/sample - loss: 0.6169 - accuracy: 0.7083\n",
      "Epoch 40/50\n",
      "576/576 [==============================] - 0s 36us/sample - loss: 0.6238 - accuracy: 0.6927\n",
      "Epoch 41/50\n",
      "576/576 [==============================] - 0s 34us/sample - loss: 0.6375 - accuracy: 0.6667\n",
      "Epoch 42/50\n",
      "576/576 [==============================] - 0s 34us/sample - loss: 0.6170 - accuracy: 0.6962\n",
      "Epoch 43/50\n",
      "576/576 [==============================] - 0s 35us/sample - loss: 0.6000 - accuracy: 0.7066\n",
      "Epoch 44/50\n",
      "576/576 [==============================] - 0s 35us/sample - loss: 0.6031 - accuracy: 0.6997\n",
      "Epoch 45/50\n",
      "576/576 [==============================] - 0s 33us/sample - loss: 0.6083 - accuracy: 0.7049\n",
      "Epoch 46/50\n",
      "576/576 [==============================] - 0s 34us/sample - loss: 0.6161 - accuracy: 0.6892\n",
      "Epoch 47/50\n",
      "576/576 [==============================] - 0s 33us/sample - loss: 0.6108 - accuracy: 0.6997\n",
      "Epoch 48/50\n",
      "576/576 [==============================] - 0s 32us/sample - loss: 0.6023 - accuracy: 0.7014\n",
      "Epoch 49/50\n",
      "576/576 [==============================] - 0s 36us/sample - loss: 0.6180 - accuracy: 0.6840\n",
      "Epoch 50/50\n",
      "576/576 [==============================] - 0s 34us/sample - loss: 0.5881 - accuracy: 0.7222\n",
      "WARNING:tensorflow:Falling back from v2 loop because of error: Failed to find data adapter that can handle input: <class 'pandas.core.frame.DataFrame'>, <class 'NoneType'>\n",
      "192/192 - 0s - loss: 0.6311 - accuracy: 0.7031\n",
      "Loss: 0.631129244963328, Accuracy: 0.703125\n"
     ]
    }
   ],
   "source": [
    "# Define the basic neural network model\n",
    "nn_model = tf.keras.models.Sequential()\n",
    "nn_model.add(tf.keras.layers.Dense(units=16, input_dim=8, activation=\"relu\"))\n",
    "nn_model.add(tf.keras.layers.Dense(units=1, activation=\"sigmoid\"))\n",
    "\n",
    "# Compile the Sequential model together and customize metrics\n",
    "nn_model.compile(loss=\"binary_crossentropy\", optimizer=\"adam\", metrics=[\"accuracy\"])\n",
    "\n",
    "# Train the model\n",
    "fit_model = nn_model.fit(X_train, y_train, epochs=50)\n",
    "\n",
    "# Evaluate the model using the test data\n",
    "model_loss, model_accuracy = nn_model.evaluate(X_test,y_test,verbose=2)\n",
    "print(f\"Loss: {model_loss}, Accuracy: {model_accuracy}\")"
   ]
  },
  {
   "cell_type": "code",
   "execution_count": 12,
   "id": "0c83767e",
   "metadata": {},
   "outputs": [
    {
     "data": {
      "text/plain": [
       "numpy.ndarray"
      ]
     },
     "execution_count": 12,
     "metadata": {},
     "output_type": "execute_result"
    }
   ],
   "source": [
    "type(X_test_scaled)"
   ]
  },
  {
   "cell_type": "code",
   "execution_count": 13,
   "id": "cc782ad2",
   "metadata": {},
   "outputs": [
    {
     "data": {
      "text/plain": [
       "pandas.core.series.Series"
      ]
     },
     "execution_count": 13,
     "metadata": {},
     "output_type": "execute_result"
    }
   ],
   "source": [
    "type(y_train)"
   ]
  },
  {
   "cell_type": "code",
   "execution_count": null,
   "id": "f165ae1f",
   "metadata": {},
   "outputs": [],
   "source": []
  }
 ],
 "metadata": {
  "kernelspec": {
   "display_name": "mlenv",
   "language": "python",
   "name": "mlenv"
  },
  "language_info": {
   "codemirror_mode": {
    "name": "ipython",
    "version": 3
   },
   "file_extension": ".py",
   "mimetype": "text/x-python",
   "name": "python",
   "nbconvert_exporter": "python",
   "pygments_lexer": "ipython3",
   "version": "3.7.13"
  }
 },
 "nbformat": 4,
 "nbformat_minor": 5
}
